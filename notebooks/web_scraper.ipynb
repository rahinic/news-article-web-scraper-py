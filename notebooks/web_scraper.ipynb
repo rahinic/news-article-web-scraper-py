{
 "metadata": {
  "language_info": {
   "codemirror_mode": {
    "name": "ipython",
    "version": 3
   },
   "file_extension": ".py",
   "mimetype": "text/x-python",
   "name": "python",
   "nbconvert_exporter": "python",
   "pygments_lexer": "ipython3",
   "version": "3.8.8"
  },
  "orig_nbformat": 2,
  "kernelspec": {
   "name": "python388jvsc74a57bd075c4db28bb58e6de10e05be21b6046b5ba21d9aba4af4007d97c2f3325bc0896",
   "display_name": "Python 3.8.8 64-bit ('tf': conda)"
  }
 },
 "nbformat": 4,
 "nbformat_minor": 2,
 "cells": [
  {
   "source": [
    "<h1> News Article Web Crawler </h1>\n",
    "<h2> Step 0: Neceessary Library Import </h2>"
   ],
   "cell_type": "markdown",
   "metadata": {}
  },
  {
   "cell_type": "code",
   "execution_count": 3,
   "metadata": {},
   "outputs": [],
   "source": [
    "import requests # to download the html source code of the webpage\n",
    "from bs4 import BeautifulSoup # to prettify the html content\n",
    "import re"
   ]
  },
  {
   "source": [
    "<h2> Step 1: Download the webpage </h2>"
   ],
   "cell_type": "markdown",
   "metadata": {}
  },
  {
   "cell_type": "code",
   "execution_count": 50,
   "metadata": {},
   "outputs": [],
   "source": [
    "def download_webpage(url):\n",
    "    \"\"\" This function downloads the HTML script of the given webpage\"\"\"\n",
    "    webpage = requests.get(url)\n",
    "\n",
    "    if (webpage.ok == True): # status_code check\n",
    "        print(\"Hurray! Webpage found and downloaded successfully!\")\n",
    "    else:\n",
    "        print(\"Incorrect URL! please verify and try again!\")\n",
    "\n",
    "    page_content = webpage.content\n",
    "    \n",
    "    webpage.close()\n",
    "\n",
    "    return page_content"
   ]
  },
  {
   "cell_type": "code",
   "execution_count": 51,
   "metadata": {
    "tags": []
   },
   "outputs": [
    {
     "output_type": "stream",
     "name": "stdout",
     "text": [
      "Hurray! Webpage found and downloaded successfully!\n"
     ]
    }
   ],
   "source": [
    "page = \"https://edition.cnn.com/travel/article/scenic-airport-landings-2020/index.html\"\n",
    "\n",
    "webpage_html = download_webpage(page)\n"
   ]
  },
  {
   "source": [
    "<h2> Step 2: Find Article Title, Author, Date and content </h2>"
   ],
   "cell_type": "markdown",
   "metadata": {}
  },
  {
   "cell_type": "code",
   "execution_count": 77,
   "metadata": {},
   "outputs": [
    {
     "output_type": "stream",
     "name": "stdout",
     "text": [
      "Article Title: World's 10 most scenic airport landings for 2020\nArticle Author:Maureen O'Hare\nArticle Published/last updated date:28th September 2020\n"
     ]
    }
   ],
   "source": [
    "soup = BeautifulSoup(webpage_html, 'html.parser')\n",
    "\n",
    "# Item 1: News article headline\n",
    "news_article_title = soup.find_all(\"h1\", {\"class\": \"Article__title\"})[0].text\n",
    "\n",
    "# Item 2: News article author\n",
    "news_article_author = soup.find_all(\"div\", {\"class\": \"Article__subtitle\"})[0].text\n",
    "news_article_author = news_article_author.split('•')[0].split(',')[0]\n",
    "\n",
    "# Item 3: News article published/last updated date\n",
    "news_article_date = soup.find_all(\"div\", {\"class\": \"Article__subtitle\"})[0].text\n",
    "news_article_date = news_article_date.split('•')[1][9:]\n",
    "\n",
    "print(f\"Article Title: {news_article_title}\" + f\"\\nArticle Author:{news_article_author}\" + f\"\\nArticle Published/last updated date:{news_article_date}\")"
   ]
  },
  {
   "cell_type": "code",
   "execution_count": 136,
   "metadata": {
    "tags": []
   },
   "outputs": [
    {
     "output_type": "stream",
     "name": "stdout",
     "text": [
      "They say absence makes the heart grow fonder.The world's most scenic airport airport approaches, as ranked annually by booking platform PrivateFly, are this year looking more glorious than ever. More than 6,000 frequent fliers and aviation enthusiasts took part in the 2020 poll, with voting taking place in February and March, just before travel restrictions to fight Covid-19 were introduced around the world. The winner, for the third year in a row, is Ireland's Donegal Airport. On the island's northwest coast, there are sweeping views of rugged coastline, pristine beaches and the steep slopes of Mount Errigal on the approach to this regional airport in Carrickfinn. While the top spot was held by an old favorite, there are six new entries in this new year's top 10. The highest new entry is Tanzania's Msembe Airstrip, in second place, which serves East Africa's Ruaha National Park. Skiathos Alexandros Papadiamantis Airport, at number three, is also making its debut. The airport on the Greek island of Skiathos, in the Aegean Sea, is popular with planespotters thanks to its short runway and close proximity to a public road. \"Many of us have flown less frequently this year, but these ultimate destination landings are a welcome reminder of the uplifting power of travel and aviation -- and a jaw-dropping inspiration for some memorable future flights,\" Adam Twidell, CEO of the UK-based booking platform for private jet charters, said in a press release. Donegal Airport on Ireland's northwest Atlantic coast claimed the top spot for the third year running.Courtesy Owen ClarkeFlorida's Orlando Melbourne International Airport was the only top 10 entry for the United States, holding onto its ranking as the fourth most scenic airport view in the world. \"First, you see the beautiful Atlantic Ocean and then pass over the Indian and Banana Rivers,\" one 2019 voter said of this descent.\"Then, there is a pass over the Kennedy Space Center and Cape Canaveral Air Force Station, where you may get a glimpse of a rocket on a launch pad.\" Scotland's Barra Airport approach, which offers stunning coastal views, slipped down three spots to fifth place, while Bora Bora's Motu Mute Airport is ranked sixth best in the world. It's built on a island on a crystal-blue lagoon in French Polynesia. Related contentNew book 'Atlas of Extinct Countries' explores the places that fell off the mapSt Maarten's Princess Juliana International Airport, where planes swoop low over Maho Beach, is at number eight, and the Seychelles' Praslin Island Airport at number nine. The top 10 was rounded out by two new entries: Dubai International Airport and Fiji's Nadi International Airport. Trans Maldivian Airways is the world's largest float plane operator. We go on the job with one of its most experienced pilots, Canadian Andrew Farr. For the first time, the poll also revealed the highest-ranked airport by region. The Asian winner, Malé (Velana) International Airport the Maldives, was the only one not to also break the top 10. The airport is a base for Trans Maldivian Airways, the world's largest seaplane operator, which is famed for its unconventionally clad \"barefoot pilots.\"10 most scenic airport landings, according to PrivateFly 1. Donegal Airport, Ireland 2. Msembe Airstrip, Tanzania 3. Skiathos (Alexandros Papadiamantis) Airport, Greece 4. Orlando (Melbourne) International Airport, Florida5. Barra Airport, Scotland 6. Bora Bora (Motu Mute) Airport, French Polynesia 7. St Maarten (Princess Juliana) International Airport, St Maarten 8. Praslin Island Airport, Seychelles 9. Dubai International Airport, United Arab Emirates 10. Nadi International Airport, Fiji A year of the world'sBest BeachesThere's a perfect beach for every week of the year. Join us on a 12-month journey to see them allGo to the best beaches\nthe webpage content is also found under data/processed/news_content.txt\n"
     ]
    }
   ],
   "source": [
    "# Item 4: Article body\n",
    "news_article_content = soup.find_all(\"div\", {\"class\": \"Article__content\"})[0].text\n",
    "news_article_content = news_article_content.split('(CNN) — ')[1]\n",
    "\n",
    "for line in news_article_content.split('\\n'):\n",
    "    print(line)\n",
    "\n",
    "print(\"the webpage content is also found under data/processed/news_content.txt\")"
   ]
  },
  {
   "cell_type": "code",
   "execution_count": 143,
   "metadata": {},
   "outputs": [],
   "source": [
    "text_file = open(r\"news_content.txt\", \"w\") # update your folder path here\n",
    "text_file.write(news_article_content)\n",
    "text_file.close()"
   ]
  }
 ]
}